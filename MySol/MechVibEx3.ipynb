{
 "cells": [
  {
   "cell_type": "code",
   "execution_count": 41,
   "metadata": {},
   "outputs": [],
   "source": [
    "import numpy as np\n",
    "from scipy import linalg\n",
    "np.set_printoptions(formatter={'float_kind':\"{:.2f}\".format}) # Format all np arrays to print to 2dp"
   ]
  },
  {
   "cell_type": "code",
   "execution_count": 26,
   "metadata": {},
   "outputs": [
    {
     "output_type": "stream",
     "name": "stdout",
     "text": "[[ 2 -1]\n [-1  3]]\n[[1 0]\n [0 2]]\n"
    }
   ],
   "source": [
    "K = np.array([[2, -1], [-1, 3]])\n",
    "M = np.array([[1, 0], [0, 2]])\n",
    "\n",
    "# K = np.array([[2, -1], [-1, 1]])\n",
    "# M = np.array([[1, 0], [0, 1]])\n",
    "print(K)\n",
    "print(M)"
   ]
  },
  {
   "cell_type": "code",
   "execution_count": 28,
   "metadata": {},
   "outputs": [
    {
     "output_type": "stream",
     "name": "stdout",
     "text": "Frequency of Vibration: (1.5811388300841898+0j)\n[ 1.  -0.5]\nFrequency of Vibration: (1+0j)\n[1. 1.]\n"
    }
   ],
   "source": [
    "V, D = linalg.eig(K, M)\n",
    "# print(V, D)\n",
    "for v, d in zip(V, D.T):\n",
    "    print(f\"Frequency of Vibration: {np.sqrt(v)}\")\n",
    "    d /= d[0]\n",
    "    print(d)"
   ]
  },
  {
   "cell_type": "markdown",
   "metadata": {},
   "source": [
    "### Q5"
   ]
  },
  {
   "cell_type": "code",
   "execution_count": 47,
   "metadata": {},
   "outputs": [
    {
     "output_type": "stream",
     "name": "stdout",
     "text": "Angular Freq: 0.00+0.00j\nMode: [1.00 1.00 1.00]\n\nAngular Freq: 1.00+0.00j\nMode: [1.00 -0.00 1.00]\n\nAngular Freq: 1.00+0.00j\nMode: [1.00 0.00 -1.00]\n\n"
    }
   ],
   "source": [
    "Mm = 0.0001 \n",
    "K = [[1, -1, 0], [-1, 2, -1], [0, -1, 1]]\n",
    "M = [[1, 0, 0], [0, 1/Mm, 0], [0, 0, 1]]\n",
    "\n",
    "V, D = linalg.eig(K, M)\n",
    "# print(V, D)\n",
    "for v, d in zip(V, D.T):\n",
    "    print(f\"Angular Freq: {np.sqrt(v):.2f}\")\n",
    "    d /= d[0]\n",
    "    print(f\"Mode: {d}\\n\")"
   ]
  },
  {
   "cell_type": "markdown",
   "metadata": {},
   "source": []
  }
 ],
 "metadata": {
  "language_info": {
   "codemirror_mode": {
    "name": "ipython",
    "version": 3
   },
   "file_extension": ".py",
   "mimetype": "text/x-python",
   "name": "python",
   "nbconvert_exporter": "python",
   "pygments_lexer": "ipython3",
   "version": "3.8.1-final"
  },
  "orig_nbformat": 2,
  "kernelspec": {
   "name": "python38164bitenvcodevenv4bf06a498453482faf2f9007e7fa3e00",
   "display_name": "Python 3.8.1 64-bit ('ENV_Code': venv)"
  }
 },
 "nbformat": 4,
 "nbformat_minor": 2
}